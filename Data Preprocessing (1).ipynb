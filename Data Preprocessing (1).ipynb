{
 "cells": [
  {
   "cell_type": "markdown",
   "metadata": {},
   "source": [
    "## Data Analysis of Diamond Price and associated features\n",
    "\n",
    "\n",
    "**About the Data Set:** The data consists of 53941 observations related to properties and prices of Diamond. The features are Price, Carat, Cut, Color, Clarity, Depth, Tabl, X, Y, and Z dimensions. The Data consists of many missin values which are to be assessed and analysed in order to proceed for model building.\n",
    "\n",
    "\n",
    "**Objectives:**\n",
    "1. Metadata Preparation\n",
    "2. Outlier Analysis\n",
    "3. Missing Value Imputation\n",
    "4. New Attribute Creation\n",
    "5. Attribute Encoding"
   ]
  },
  {
   "cell_type": "markdown",
   "metadata": {},
   "source": [
    "**Importing Libraries**"
   ]
  },
  {
   "cell_type": "code",
   "execution_count": 387,
   "metadata": {},
   "outputs": [],
   "source": [
    "import numpy as np\n",
    "import pandas as pd\n",
    "import scipy\n",
    "from sklearn.linear_model import LinearRegression\n",
    "from sklearn.model_selection import train_test_split"
   ]
  },
  {
   "cell_type": "code",
   "execution_count": 388,
   "metadata": {},
   "outputs": [],
   "source": [
    "import AdvancedAnalytics"
   ]
  },
  {
   "cell_type": "markdown",
   "metadata": {},
   "source": [
    "**Data Reading**"
   ]
  },
  {
   "cell_type": "code",
   "execution_count": 389,
   "metadata": {},
   "outputs": [
    {
     "data": {
      "text/html": [
       "<div>\n",
       "<style scoped>\n",
       "    .dataframe tbody tr th:only-of-type {\n",
       "        vertical-align: middle;\n",
       "    }\n",
       "\n",
       "    .dataframe tbody tr th {\n",
       "        vertical-align: top;\n",
       "    }\n",
       "\n",
       "    .dataframe thead th {\n",
       "        text-align: right;\n",
       "    }\n",
       "</style>\n",
       "<table border=\"1\" class=\"dataframe\">\n",
       "  <thead>\n",
       "    <tr style=\"text-align: right;\">\n",
       "      <th></th>\n",
       "      <th>obs</th>\n",
       "      <th>price</th>\n",
       "      <th>Carat</th>\n",
       "      <th>cut</th>\n",
       "      <th>color</th>\n",
       "      <th>clarity</th>\n",
       "      <th>depth</th>\n",
       "      <th>table</th>\n",
       "      <th>x</th>\n",
       "      <th>y</th>\n",
       "      <th>z</th>\n",
       "    </tr>\n",
       "  </thead>\n",
       "  <tbody>\n",
       "    <tr>\n",
       "      <th>0</th>\n",
       "      <td>1</td>\n",
       "      <td>326</td>\n",
       "      <td>NaN</td>\n",
       "      <td>Ideal</td>\n",
       "      <td>E</td>\n",
       "      <td>SI2</td>\n",
       "      <td>61.5</td>\n",
       "      <td>55.0</td>\n",
       "      <td>3.95</td>\n",
       "      <td>3.98</td>\n",
       "      <td>2.43</td>\n",
       "    </tr>\n",
       "    <tr>\n",
       "      <th>1</th>\n",
       "      <td>2</td>\n",
       "      <td>326</td>\n",
       "      <td>0.21</td>\n",
       "      <td>Premium</td>\n",
       "      <td>E</td>\n",
       "      <td>SI1</td>\n",
       "      <td>59.8</td>\n",
       "      <td>61.0</td>\n",
       "      <td>3.89</td>\n",
       "      <td>3.84</td>\n",
       "      <td>2.31</td>\n",
       "    </tr>\n",
       "    <tr>\n",
       "      <th>2</th>\n",
       "      <td>3</td>\n",
       "      <td>327</td>\n",
       "      <td>0.23</td>\n",
       "      <td>Good</td>\n",
       "      <td>E</td>\n",
       "      <td>VS1</td>\n",
       "      <td>56.9</td>\n",
       "      <td>65.0</td>\n",
       "      <td>4.05</td>\n",
       "      <td>4.07</td>\n",
       "      <td>2.31</td>\n",
       "    </tr>\n",
       "    <tr>\n",
       "      <th>3</th>\n",
       "      <td>4</td>\n",
       "      <td>334</td>\n",
       "      <td>0.29</td>\n",
       "      <td>Premium</td>\n",
       "      <td>I</td>\n",
       "      <td>VS2</td>\n",
       "      <td>62.4</td>\n",
       "      <td>58.0</td>\n",
       "      <td>4.20</td>\n",
       "      <td>NaN</td>\n",
       "      <td>2.63</td>\n",
       "    </tr>\n",
       "    <tr>\n",
       "      <th>4</th>\n",
       "      <td>5</td>\n",
       "      <td>335</td>\n",
       "      <td>0.31</td>\n",
       "      <td>Good</td>\n",
       "      <td>J</td>\n",
       "      <td>SI2</td>\n",
       "      <td>63.3</td>\n",
       "      <td>58.0</td>\n",
       "      <td>4.34</td>\n",
       "      <td>4.35</td>\n",
       "      <td>NaN</td>\n",
       "    </tr>\n",
       "  </tbody>\n",
       "</table>\n",
       "</div>"
      ],
      "text/plain": [
       "   obs  price  Carat      cut color clarity  depth  table     x     y     z\n",
       "0    1    326    NaN    Ideal     E     SI2   61.5   55.0  3.95  3.98  2.43\n",
       "1    2    326   0.21  Premium     E     SI1   59.8   61.0  3.89  3.84  2.31\n",
       "2    3    327   0.23     Good     E     VS1   56.9   65.0  4.05  4.07  2.31\n",
       "3    4    334   0.29  Premium     I     VS2   62.4   58.0  4.20   NaN  2.63\n",
       "4    5    335   0.31     Good     J     SI2   63.3   58.0  4.34  4.35   NaN"
      ]
     },
     "execution_count": 389,
     "metadata": {},
     "output_type": "execute_result"
    }
   ],
   "source": [
    "df = pd.read_excel(\"C:/Users.....diamondswmissing.xlsx\")\n",
    "df.head()"
   ]
  },
  {
   "cell_type": "markdown",
   "metadata": {},
   "source": [
    "**Missing Value Assessment**"
   ]
  },
  {
   "cell_type": "code",
   "execution_count": 390,
   "metadata": {
    "scrolled": true
   },
   "outputs": [
    {
     "data": {
      "text/plain": [
       "obs           0\n",
       "price         0\n",
       "Carat      5467\n",
       "cut        2664\n",
       "color      1571\n",
       "clarity    1689\n",
       "depth      1653\n",
       "table      1600\n",
       "x          1598\n",
       "y          1636\n",
       "z          1639\n",
       "dtype: int64"
      ]
     },
     "execution_count": 390,
     "metadata": {},
     "output_type": "execute_result"
    }
   ],
   "source": [
    "df.isnull().sum()"
   ]
  },
  {
   "cell_type": "markdown",
   "metadata": {},
   "source": [
    "**Number of Rows and Columns**"
   ]
  },
  {
   "cell_type": "code",
   "execution_count": 437,
   "metadata": {},
   "outputs": [
    {
     "data": {
      "text/plain": [
       "(53940, 11)"
      ]
     },
     "execution_count": 437,
     "metadata": {},
     "output_type": "execute_result"
    }
   ],
   "source": [
    "df.shape"
   ]
  },
  {
   "cell_type": "code",
   "execution_count": 392,
   "metadata": {},
   "outputs": [],
   "source": [
    "from sklearn import preprocessing\n",
    "from AdvancedAnalytics import ReplaceImputeEncode"
   ]
  },
  {
   "cell_type": "markdown",
   "metadata": {},
   "source": [
    "**Outlier Analysis and Missing Values Assessment**"
   ]
  },
  {
   "cell_type": "code",
   "execution_count": 393,
   "metadata": {},
   "outputs": [],
   "source": [
    "df_dropped=df.dropna(subset=['price']) #deoppping target variable missing values to avoide bias"
   ]
  },
  {
   "cell_type": "code",
   "execution_count": 394,
   "metadata": {},
   "outputs": [],
   "source": [
    "data_map={\\\n",
    "            'cut':[2, ('Ideal', 'Premium', 'Good', 'Very Good', 'Fair'),[0,0]], \\\n",
    "            'color':[2,('E', 'I', 'J', 'H', 'F', 'G', 'D'),[0,0]],  \\\n",
    "            'clarity':[2,('SI2', 'SI1', 'VS1', 'VS2', 'VVS2', 'VVS1', 'I1', 'IF'),[0,0]], \\\n",
    "            'Carat':[0, (0.2,5.5),[0,0]], \\\n",
    "            'depth':[0,(40, 80), [0,0]], \\\n",
    "            'table':[0,(40,100), [0,0]], \\\n",
    "            'x':[0, (0,11), [0,0]], \\\n",
    "            'y':[0, (0,60), [0,0]], \\\n",
    "            'z':[0, (0,32), [0,0]]}\n",
    "\n"
   ]
  },
  {
   "cell_type": "code",
   "execution_count": 395,
   "metadata": {
    "scrolled": true
   },
   "outputs": [
    {
     "name": "stdout",
     "output_type": "stream",
     "text": [
      "\n",
      "********** Data Preprocessing ***********\n",
      "Features Dictionary Contains:\n",
      "0 Interval, \n",
      "0 Binary, \n",
      "0 Nominal, and \n",
      "11 Excluded Attribute(s).\n",
      "\n",
      "Data contains 53940 observations & 11 columns.\n",
      "\n",
      "\n",
      "Attribute Counts\n",
      ".............. Missing  Outliers\n",
      "cut......      2664         0\n",
      "color....      1571         0\n",
      "clarity..      1689         0\n",
      "Carat....      5467         0\n",
      "depth....      1653         0\n",
      "table....      1600         0\n",
      "x........      1598         0\n",
      "y........      1636         0\n",
      "z........      1639         0\n"
     ]
    }
   ],
   "source": [
    "rie = ReplaceImputeEncode(data_map=data_map, display=True)\n",
    "df_rie=rie.fit_transform(df_dropped)"
   ]
  },
  {
   "cell_type": "markdown",
   "metadata": {},
   "source": [
    "**Data Imputation for Nominal, Ordinal and Interval Data**"
   ]
  },
  {
   "cell_type": "code",
   "execution_count": 396,
   "metadata": {},
   "outputs": [
    {
     "name": "stderr",
     "output_type": "stream",
     "text": [
      "C:\\Users\\vasuk\\Anaconda3\\lib\\site-packages\\ipykernel_launcher.py:3: FutureWarning: Method .as_matrix will be removed in a future version. Use .values instead.\n",
      "  This is separate from the ipykernel package so we can avoid doing imports until\n"
     ]
    }
   ],
   "source": [
    "# Put the interval data from the dataframe into a numpy array\n",
    "interval_attributes=['Carat','depth','table','x','y','z']\n",
    "interval_data=df_dropped.as_matrix(columns=interval_attributes)\n",
    "\n"
   ]
  },
  {
   "cell_type": "code",
   "execution_count": 397,
   "metadata": {},
   "outputs": [
    {
     "name": "stderr",
     "output_type": "stream",
     "text": [
      "C:\\Users\\vasuk\\Anaconda3\\lib\\site-packages\\sklearn\\utils\\deprecation.py:58: DeprecationWarning: Class Imputer is deprecated; Imputer was deprecated in version 0.20 and will be removed in 0.22. Import impute.SimpleImputer from sklearn instead.\n",
      "  warnings.warn(msg, category=DeprecationWarning)\n"
     ]
    }
   ],
   "source": [
    "interval_imputer = preprocessing.Imputer(strategy='mean')"
   ]
  },
  {
   "cell_type": "code",
   "execution_count": 398,
   "metadata": {},
   "outputs": [
    {
     "name": "stdout",
     "output_type": "stream",
     "text": [
      "Imputed Interval Data:\n",
      " [[ 0.79830896 61.5        55.          3.95        3.98        2.43      ]\n",
      " [ 0.21       59.8        61.          3.89        3.84        2.31      ]\n",
      " [ 0.23       56.9        65.          4.05        4.07        2.31      ]\n",
      " ...\n",
      " [ 0.79830896 62.8        60.          5.66        5.68        3.56      ]\n",
      " [ 0.86       61.         58.          5.73218047  6.12        3.53901971]\n",
      " [ 0.75       62.2        55.          5.83        5.87        3.64      ]]\n"
     ]
    }
   ],
   "source": [
    "# Impute the missing values in the Interval data\n",
    "imputed_interval_data = interval_imputer.fit_transform(interval_data)\n",
    "print(\"Imputed Interval Data:\\n\", imputed_interval_data)"
   ]
  },
  {
   "cell_type": "code",
   "execution_count": 399,
   "metadata": {},
   "outputs": [],
   "source": [
    "cut_map={'Ideal':1, 'Premium':2, 'Good':3, 'Very Good':4, 'Fair':5}"
   ]
  },
  {
   "cell_type": "code",
   "execution_count": 400,
   "metadata": {},
   "outputs": [
    {
     "name": "stdout",
     "output_type": "stream",
     "text": [
      "         obs  price  Carat  cut color clarity  depth  table     x     y     z\n",
      "0          1    326    NaN  1.0     E     SI2   61.5   55.0  3.95  3.98  2.43\n",
      "1          2    326   0.21  2.0     E     SI1   59.8   61.0  3.89  3.84  2.31\n",
      "2          3    327   0.23  3.0     E     VS1   56.9   65.0  4.05  4.07  2.31\n",
      "3          4    334   0.29  2.0     I     VS2   62.4   58.0  4.20   NaN  2.63\n",
      "4          5    335   0.31  3.0     J     SI2   63.3   58.0  4.34  4.35   NaN\n",
      "5          6    336   0.24  4.0     J    VVS2   62.8   57.0  3.94  3.96  2.48\n",
      "6          7    336   0.24  4.0     I    VVS1   62.3   57.0  3.95   NaN  2.47\n",
      "7          8    337   0.26  4.0     H     SI1    NaN   55.0  4.07  4.11  2.53\n",
      "8          9    337   0.22  5.0     E     VS2   65.1   61.0  3.87  3.78  2.49\n",
      "9         10    338   0.23  4.0     H     VS1   59.4   61.0   NaN  4.05  2.39\n",
      "10        11    339   0.30  3.0   NaN     SI1   64.0   55.0  4.25  4.28  2.73\n",
      "11        12    340   0.23  1.0     J     VS1   62.8   56.0  3.93  3.90  2.46\n",
      "12        13    342   0.22  2.0     F     SI1   60.4   61.0  3.88  3.84  2.33\n",
      "13        14    344   0.31  1.0     J     SI2   62.2   54.0  4.35  4.37  2.71\n",
      "14        15    345   0.20  2.0     E     SI2   60.2   62.0  3.79  3.75  2.27\n",
      "15        16    345    NaN  2.0     E      I1   60.9   58.0  4.38  4.42  2.68\n",
      "16        17    348   0.30  1.0     I     SI2   62.0    NaN  4.31  4.34  2.68\n",
      "17        18    351   0.30  3.0     J     SI1   63.4   54.0  4.23  4.29  2.70\n",
      "18        19    351   0.30  NaN   NaN     SI1   63.8   56.0  4.23  4.26  2.71\n",
      "19        20    351   0.30  4.0     J     SI1   62.7   59.0  4.21  4.27  2.66\n",
      "20        21    351   0.30  3.0     I     SI2   63.3   56.0  4.26  4.30  2.71\n",
      "21        22    352   0.23  4.0     E     VS2   63.8   55.0  3.85  3.92  2.48\n",
      "22        23    353   0.23  4.0     H     VS1   61.0   57.0  3.94  3.96  2.41\n",
      "23        24    353   0.31  4.0     J     SI1   59.4   62.0  4.39  4.43  2.62\n",
      "24        25    353   0.31  4.0     J     SI1   58.1   62.0  4.44  4.47  2.59\n",
      "25        26    354   0.23  4.0     G    VVS2   60.4   58.0  3.97  4.01  2.41\n",
      "26        27    355   0.24  2.0     I     VS1   62.5   57.0  3.97  3.94  2.47\n",
      "27        28    357   0.30  4.0     J     VS2   62.2   57.0  4.28  4.30  2.67\n",
      "28        29    357   0.23  4.0     D     VS2   60.5   61.0  3.96  3.97  2.40\n",
      "29        30    357   0.23  4.0   NaN     VS1   60.9   57.0  3.96  3.99  2.42\n",
      "...      ...    ...    ...  ...   ...     ...    ...    ...   ...   ...   ...\n",
      "53910  53911   2753   0.70  2.0     E     SI1   60.5   58.0  5.74  5.77  3.48\n",
      "53911  53912   2753   0.57  2.0     E      IF   59.8   60.0  5.43  5.38  3.23\n",
      "53912  53913   2753   0.61  2.0     F    VVS1   61.8   59.0  5.48  5.40  3.36\n",
      "53913  53914   2753   0.80  3.0     G     VS2   64.2   58.0  5.84  5.81  3.74\n",
      "53914  53915   2753   0.84  3.0     I     VS1   63.7   59.0  5.94  5.90  3.77\n",
      "53915  53916   2753    NaN  1.0     E     SI2   62.1   56.0  5.84   NaN  3.63\n",
      "53916  53917   2753   0.74  3.0     D     SI1   63.1   59.0  5.71  5.74  3.61\n",
      "53917  53918   2753    NaN  4.0     J     SI1   63.2   60.0  6.12  6.09  3.86\n",
      "53918  53919   2753   0.76  2.0     I     VS1   59.3   62.0  5.93  5.85  3.49\n",
      "53919  53920   2753   0.76  1.0     I    VVS1   62.2   55.0  5.89  5.87  3.66\n",
      "53920  53921   2755   0.70  4.0     E     VS2   62.4   60.0  5.57  5.61  3.49\n",
      "53921  53922   2755    NaN  NaN     E     VS2   62.8   60.0  5.59  5.65  3.53\n",
      "53922  53923   2755   0.70  4.0     D     VS1   63.1   59.0  5.67  5.58  3.55\n",
      "53923  53924   2756   0.73  1.0     I     VS2   61.3   56.0  5.80  5.84  3.57\n",
      "53924  53925   2756    NaN  NaN     I     VS2   61.6   55.0  5.82  5.84  3.59\n",
      "53925  53926   2756   0.79  1.0     I     SI1   61.6   56.0  5.95  5.97  3.67\n",
      "53926  53927   2756   0.71  1.0   NaN     SI1   61.9   56.0  5.71  5.73  3.54\n",
      "53927  53928   2756   0.79  3.0     F     SI1    NaN   59.0  6.06  6.13  3.54\n",
      "53928  53929   2756   0.79  2.0     E     SI2   61.4   58.0  6.03  5.96  3.68\n",
      "53929  53930   2756    NaN  1.0     G     VS1   61.4   56.0  5.76  5.73  3.53\n",
      "53930  53931   2756   0.71  2.0     E     SI1    NaN   55.0  5.79  5.74  3.49\n",
      "53931  53932   2756   0.71  2.0     F     SI1   59.8   62.0  5.74  5.73  3.43\n",
      "53932  53933   2757   0.70  4.0     E     VS2   60.5   59.0  5.71  5.76  3.47\n",
      "53933  53934   2757    NaN  NaN     E     VS2   61.2   59.0  5.69  5.72  3.49\n",
      "53934  53935   2757   0.72  2.0     D     SI1   62.7   59.0  5.69  5.73  3.58\n",
      "53935  53936   2757   0.72  1.0     D     SI1   60.8   57.0  5.75  5.76  3.50\n",
      "53936  53937   2757   0.72  3.0     D     SI1   63.1    NaN  5.69  5.75  3.61\n",
      "53937  53938   2757    NaN  4.0     D     SI1   62.8   60.0  5.66  5.68  3.56\n",
      "53938  53939   2757   0.86  2.0     H     SI2   61.0   58.0   NaN  6.12   NaN\n",
      "53939  53940   2757   0.75  1.0     D     SI2   62.2   55.0  5.83  5.87  3.64\n",
      "\n",
      "[53940 rows x 11 columns]\n"
     ]
    }
   ],
   "source": [
    "df_dropped['cut'] = df_dropped['cut'].map(cut_map)\n",
    "print(df_dropped)"
   ]
  },
  {
   "cell_type": "code",
   "execution_count": 401,
   "metadata": {},
   "outputs": [],
   "source": [
    "color_map={'E':1, 'I':2, 'J':3, 'H':4, 'F':5, 'G':6, 'D':7}\n",
    "clarity_map={'SI2':1, 'SI1':2, 'VS1':3, 'VS2':4, 'VVS2':5, 'VVS1':6, 'I1':7, 'IF':8}"
   ]
  },
  {
   "cell_type": "code",
   "execution_count": 402,
   "metadata": {},
   "outputs": [
    {
     "name": "stdout",
     "output_type": "stream",
     "text": [
      "         obs  price  Carat  cut  color  clarity  depth  table     x     y  \\\n",
      "0          1    326    NaN  1.0    1.0      1.0   61.5   55.0  3.95  3.98   \n",
      "1          2    326   0.21  2.0    1.0      2.0   59.8   61.0  3.89  3.84   \n",
      "2          3    327   0.23  3.0    1.0      3.0   56.9   65.0  4.05  4.07   \n",
      "3          4    334   0.29  2.0    2.0      4.0   62.4   58.0  4.20   NaN   \n",
      "4          5    335   0.31  3.0    3.0      1.0   63.3   58.0  4.34  4.35   \n",
      "5          6    336   0.24  4.0    3.0      5.0   62.8   57.0  3.94  3.96   \n",
      "6          7    336   0.24  4.0    2.0      6.0   62.3   57.0  3.95   NaN   \n",
      "7          8    337   0.26  4.0    4.0      2.0    NaN   55.0  4.07  4.11   \n",
      "8          9    337   0.22  5.0    1.0      4.0   65.1   61.0  3.87  3.78   \n",
      "9         10    338   0.23  4.0    4.0      3.0   59.4   61.0   NaN  4.05   \n",
      "10        11    339   0.30  3.0    NaN      2.0   64.0   55.0  4.25  4.28   \n",
      "11        12    340   0.23  1.0    3.0      3.0   62.8   56.0  3.93  3.90   \n",
      "12        13    342   0.22  2.0    5.0      2.0   60.4   61.0  3.88  3.84   \n",
      "13        14    344   0.31  1.0    3.0      1.0   62.2   54.0  4.35  4.37   \n",
      "14        15    345   0.20  2.0    1.0      1.0   60.2   62.0  3.79  3.75   \n",
      "15        16    345    NaN  2.0    1.0      7.0   60.9   58.0  4.38  4.42   \n",
      "16        17    348   0.30  1.0    2.0      1.0   62.0    NaN  4.31  4.34   \n",
      "17        18    351   0.30  3.0    3.0      2.0   63.4   54.0  4.23  4.29   \n",
      "18        19    351   0.30  NaN    NaN      2.0   63.8   56.0  4.23  4.26   \n",
      "19        20    351   0.30  4.0    3.0      2.0   62.7   59.0  4.21  4.27   \n",
      "20        21    351   0.30  3.0    2.0      1.0   63.3   56.0  4.26  4.30   \n",
      "21        22    352   0.23  4.0    1.0      4.0   63.8   55.0  3.85  3.92   \n",
      "22        23    353   0.23  4.0    4.0      3.0   61.0   57.0  3.94  3.96   \n",
      "23        24    353   0.31  4.0    3.0      2.0   59.4   62.0  4.39  4.43   \n",
      "24        25    353   0.31  4.0    3.0      2.0   58.1   62.0  4.44  4.47   \n",
      "25        26    354   0.23  4.0    6.0      5.0   60.4   58.0  3.97  4.01   \n",
      "26        27    355   0.24  2.0    2.0      3.0   62.5   57.0  3.97  3.94   \n",
      "27        28    357   0.30  4.0    3.0      4.0   62.2   57.0  4.28  4.30   \n",
      "28        29    357   0.23  4.0    7.0      4.0   60.5   61.0  3.96  3.97   \n",
      "29        30    357   0.23  4.0    NaN      3.0   60.9   57.0  3.96  3.99   \n",
      "...      ...    ...    ...  ...    ...      ...    ...    ...   ...   ...   \n",
      "53910  53911   2753   0.70  2.0    1.0      2.0   60.5   58.0  5.74  5.77   \n",
      "53911  53912   2753   0.57  2.0    1.0      8.0   59.8   60.0  5.43  5.38   \n",
      "53912  53913   2753   0.61  2.0    5.0      6.0   61.8   59.0  5.48  5.40   \n",
      "53913  53914   2753   0.80  3.0    6.0      4.0   64.2   58.0  5.84  5.81   \n",
      "53914  53915   2753   0.84  3.0    2.0      3.0   63.7   59.0  5.94  5.90   \n",
      "53915  53916   2753    NaN  1.0    1.0      1.0   62.1   56.0  5.84   NaN   \n",
      "53916  53917   2753   0.74  3.0    7.0      2.0   63.1   59.0  5.71  5.74   \n",
      "53917  53918   2753    NaN  4.0    3.0      2.0   63.2   60.0  6.12  6.09   \n",
      "53918  53919   2753   0.76  2.0    2.0      3.0   59.3   62.0  5.93  5.85   \n",
      "53919  53920   2753   0.76  1.0    2.0      6.0   62.2   55.0  5.89  5.87   \n",
      "53920  53921   2755   0.70  4.0    1.0      4.0   62.4   60.0  5.57  5.61   \n",
      "53921  53922   2755    NaN  NaN    1.0      4.0   62.8   60.0  5.59  5.65   \n",
      "53922  53923   2755   0.70  4.0    7.0      3.0   63.1   59.0  5.67  5.58   \n",
      "53923  53924   2756   0.73  1.0    2.0      4.0   61.3   56.0  5.80  5.84   \n",
      "53924  53925   2756    NaN  NaN    2.0      4.0   61.6   55.0  5.82  5.84   \n",
      "53925  53926   2756   0.79  1.0    2.0      2.0   61.6   56.0  5.95  5.97   \n",
      "53926  53927   2756   0.71  1.0    NaN      2.0   61.9   56.0  5.71  5.73   \n",
      "53927  53928   2756   0.79  3.0    5.0      2.0    NaN   59.0  6.06  6.13   \n",
      "53928  53929   2756   0.79  2.0    1.0      1.0   61.4   58.0  6.03  5.96   \n",
      "53929  53930   2756    NaN  1.0    6.0      3.0   61.4   56.0  5.76  5.73   \n",
      "53930  53931   2756   0.71  2.0    1.0      2.0    NaN   55.0  5.79  5.74   \n",
      "53931  53932   2756   0.71  2.0    5.0      2.0   59.8   62.0  5.74  5.73   \n",
      "53932  53933   2757   0.70  4.0    1.0      4.0   60.5   59.0  5.71  5.76   \n",
      "53933  53934   2757    NaN  NaN    1.0      4.0   61.2   59.0  5.69  5.72   \n",
      "53934  53935   2757   0.72  2.0    7.0      2.0   62.7   59.0  5.69  5.73   \n",
      "53935  53936   2757   0.72  1.0    7.0      2.0   60.8   57.0  5.75  5.76   \n",
      "53936  53937   2757   0.72  3.0    7.0      2.0   63.1    NaN  5.69  5.75   \n",
      "53937  53938   2757    NaN  4.0    7.0      2.0   62.8   60.0  5.66  5.68   \n",
      "53938  53939   2757   0.86  2.0    4.0      1.0   61.0   58.0   NaN  6.12   \n",
      "53939  53940   2757   0.75  1.0    7.0      1.0   62.2   55.0  5.83  5.87   \n",
      "\n",
      "          z  \n",
      "0      2.43  \n",
      "1      2.31  \n",
      "2      2.31  \n",
      "3      2.63  \n",
      "4       NaN  \n",
      "5      2.48  \n",
      "6      2.47  \n",
      "7      2.53  \n",
      "8      2.49  \n",
      "9      2.39  \n",
      "10     2.73  \n",
      "11     2.46  \n",
      "12     2.33  \n",
      "13     2.71  \n",
      "14     2.27  \n",
      "15     2.68  \n",
      "16     2.68  \n",
      "17     2.70  \n",
      "18     2.71  \n",
      "19     2.66  \n",
      "20     2.71  \n",
      "21     2.48  \n",
      "22     2.41  \n",
      "23     2.62  \n",
      "24     2.59  \n",
      "25     2.41  \n",
      "26     2.47  \n",
      "27     2.67  \n",
      "28     2.40  \n",
      "29     2.42  \n",
      "...     ...  \n",
      "53910  3.48  \n",
      "53911  3.23  \n",
      "53912  3.36  \n",
      "53913  3.74  \n",
      "53914  3.77  \n",
      "53915  3.63  \n",
      "53916  3.61  \n",
      "53917  3.86  \n",
      "53918  3.49  \n",
      "53919  3.66  \n",
      "53920  3.49  \n",
      "53921  3.53  \n",
      "53922  3.55  \n",
      "53923  3.57  \n",
      "53924  3.59  \n",
      "53925  3.67  \n",
      "53926  3.54  \n",
      "53927  3.54  \n",
      "53928  3.68  \n",
      "53929  3.53  \n",
      "53930  3.49  \n",
      "53931  3.43  \n",
      "53932  3.47  \n",
      "53933  3.49  \n",
      "53934  3.58  \n",
      "53935  3.50  \n",
      "53936  3.61  \n",
      "53937  3.56  \n",
      "53938   NaN  \n",
      "53939  3.64  \n",
      "\n",
      "[53940 rows x 11 columns]\n"
     ]
    }
   ],
   "source": [
    "df_dropped['color'] = df_dropped['color'].map(color_map)\n",
    "df_dropped['clarity'] = df_dropped['clarity'].map(clarity_map)\n",
    "print(df_dropped)"
   ]
  },
  {
   "cell_type": "code",
   "execution_count": 403,
   "metadata": {},
   "outputs": [
    {
     "name": "stderr",
     "output_type": "stream",
     "text": [
      "C:\\Users\\vasuk\\Anaconda3\\lib\\site-packages\\ipykernel_launcher.py:3: FutureWarning: Method .as_matrix will be removed in a future version. Use .values instead.\n",
      "  This is separate from the ipykernel package so we can avoid doing imports until\n"
     ]
    }
   ],
   "source": [
    "# Put the nominal data from the dataframe into a numpy array\n",
    "nominal_attributes = ['cut','color','clarity']\n",
    "nominal_data = df_dropped.as_matrix(columns=nominal_attributes)"
   ]
  },
  {
   "cell_type": "code",
   "execution_count": 404,
   "metadata": {},
   "outputs": [
    {
     "name": "stderr",
     "output_type": "stream",
     "text": [
      "C:\\Users\\vasuk\\Anaconda3\\lib\\site-packages\\sklearn\\utils\\deprecation.py:58: DeprecationWarning: Class Imputer is deprecated; Imputer was deprecated in version 0.20 and will be removed in 0.22. Import impute.SimpleImputer from sklearn instead.\n",
      "  warnings.warn(msg, category=DeprecationWarning)\n"
     ]
    }
   ],
   "source": [
    "# Create Imputer for Categorical Data\n",
    "cat_imputer = preprocessing.Imputer(strategy='most_frequent')"
   ]
  },
  {
   "cell_type": "code",
   "execution_count": 405,
   "metadata": {},
   "outputs": [],
   "source": [
    "# Impute the missing values in the Categorical Data\n",
    "imputed_nominal_data = cat_imputer.fit_transform(nominal_data)\n"
   ]
  },
  {
   "cell_type": "code",
   "execution_count": 406,
   "metadata": {},
   "outputs": [
    {
     "data": {
      "text/plain": [
       "array([[1., 1., 1.],\n",
       "       [2., 1., 2.],\n",
       "       [3., 1., 3.],\n",
       "       ...,\n",
       "       [4., 7., 2.],\n",
       "       [2., 4., 1.],\n",
       "       [1., 7., 1.]])"
      ]
     },
     "execution_count": 406,
     "metadata": {},
     "output_type": "execute_result"
    }
   ],
   "source": [
    "imputed_nominal_data"
   ]
  },
  {
   "cell_type": "code",
   "execution_count": 407,
   "metadata": {},
   "outputs": [],
   "source": [
    "df_dropped[['cut','color','clarity']]=imputed_nominal_data"
   ]
  },
  {
   "cell_type": "code",
   "execution_count": 408,
   "metadata": {
    "scrolled": true
   },
   "outputs": [
    {
     "data": {
      "text/html": [
       "<div>\n",
       "<style scoped>\n",
       "    .dataframe tbody tr th:only-of-type {\n",
       "        vertical-align: middle;\n",
       "    }\n",
       "\n",
       "    .dataframe tbody tr th {\n",
       "        vertical-align: top;\n",
       "    }\n",
       "\n",
       "    .dataframe thead th {\n",
       "        text-align: right;\n",
       "    }\n",
       "</style>\n",
       "<table border=\"1\" class=\"dataframe\">\n",
       "  <thead>\n",
       "    <tr style=\"text-align: right;\">\n",
       "      <th></th>\n",
       "      <th>obs</th>\n",
       "      <th>price</th>\n",
       "      <th>Carat</th>\n",
       "      <th>cut</th>\n",
       "      <th>color</th>\n",
       "      <th>clarity</th>\n",
       "      <th>depth</th>\n",
       "      <th>table</th>\n",
       "      <th>x</th>\n",
       "      <th>y</th>\n",
       "      <th>z</th>\n",
       "    </tr>\n",
       "  </thead>\n",
       "  <tbody>\n",
       "    <tr>\n",
       "      <th>0</th>\n",
       "      <td>1</td>\n",
       "      <td>326</td>\n",
       "      <td>0.798309</td>\n",
       "      <td>1.0</td>\n",
       "      <td>1.0</td>\n",
       "      <td>1.0</td>\n",
       "      <td>61.5</td>\n",
       "      <td>55.0</td>\n",
       "      <td>3.95</td>\n",
       "      <td>3.980000</td>\n",
       "      <td>2.43000</td>\n",
       "    </tr>\n",
       "    <tr>\n",
       "      <th>1</th>\n",
       "      <td>2</td>\n",
       "      <td>326</td>\n",
       "      <td>0.210000</td>\n",
       "      <td>2.0</td>\n",
       "      <td>1.0</td>\n",
       "      <td>2.0</td>\n",
       "      <td>59.8</td>\n",
       "      <td>61.0</td>\n",
       "      <td>3.89</td>\n",
       "      <td>3.840000</td>\n",
       "      <td>2.31000</td>\n",
       "    </tr>\n",
       "    <tr>\n",
       "      <th>2</th>\n",
       "      <td>3</td>\n",
       "      <td>327</td>\n",
       "      <td>0.230000</td>\n",
       "      <td>3.0</td>\n",
       "      <td>1.0</td>\n",
       "      <td>3.0</td>\n",
       "      <td>56.9</td>\n",
       "      <td>65.0</td>\n",
       "      <td>4.05</td>\n",
       "      <td>4.070000</td>\n",
       "      <td>2.31000</td>\n",
       "    </tr>\n",
       "    <tr>\n",
       "      <th>3</th>\n",
       "      <td>4</td>\n",
       "      <td>334</td>\n",
       "      <td>0.290000</td>\n",
       "      <td>2.0</td>\n",
       "      <td>2.0</td>\n",
       "      <td>4.0</td>\n",
       "      <td>62.4</td>\n",
       "      <td>58.0</td>\n",
       "      <td>4.20</td>\n",
       "      <td>5.736222</td>\n",
       "      <td>2.63000</td>\n",
       "    </tr>\n",
       "    <tr>\n",
       "      <th>4</th>\n",
       "      <td>5</td>\n",
       "      <td>335</td>\n",
       "      <td>0.310000</td>\n",
       "      <td>3.0</td>\n",
       "      <td>3.0</td>\n",
       "      <td>1.0</td>\n",
       "      <td>63.3</td>\n",
       "      <td>58.0</td>\n",
       "      <td>4.34</td>\n",
       "      <td>4.350000</td>\n",
       "      <td>3.53902</td>\n",
       "    </tr>\n",
       "  </tbody>\n",
       "</table>\n",
       "</div>"
      ],
      "text/plain": [
       "   obs  price     Carat  cut  color  clarity  depth  table     x         y  \\\n",
       "0    1    326  0.798309  1.0    1.0      1.0   61.5   55.0  3.95  3.980000   \n",
       "1    2    326  0.210000  2.0    1.0      2.0   59.8   61.0  3.89  3.840000   \n",
       "2    3    327  0.230000  3.0    1.0      3.0   56.9   65.0  4.05  4.070000   \n",
       "3    4    334  0.290000  2.0    2.0      4.0   62.4   58.0  4.20  5.736222   \n",
       "4    5    335  0.310000  3.0    3.0      1.0   63.3   58.0  4.34  4.350000   \n",
       "\n",
       "         z  \n",
       "0  2.43000  \n",
       "1  2.31000  \n",
       "2  2.31000  \n",
       "3  2.63000  \n",
       "4  3.53902  "
      ]
     },
     "execution_count": 408,
     "metadata": {},
     "output_type": "execute_result"
    }
   ],
   "source": [
    "df_dropped[['Carat','depth','table','x','y','z']]=imputed_interval_data\n",
    "df_dropped.head()"
   ]
  },
  {
   "cell_type": "markdown",
   "metadata": {},
   "source": [
    "**Data after Imputation**"
   ]
  },
  {
   "cell_type": "code",
   "execution_count": 409,
   "metadata": {
    "scrolled": true
   },
   "outputs": [
    {
     "name": "stdout",
     "output_type": "stream",
     "text": [
      "         obs  price     Carat        cut color clarity      depth      table  \\\n",
      "0          1    326  0.798309      Ideal     E     SI2  61.500000  55.000000   \n",
      "1          2    326  0.210000    Premium     E     SI1  59.800000  61.000000   \n",
      "2          3    327  0.230000       Good     E     VS1  56.900000  65.000000   \n",
      "3          4    334  0.290000    Premium     I     VS2  62.400000  58.000000   \n",
      "4          5    335  0.310000       Good     J     SI2  63.300000  58.000000   \n",
      "5          6    336  0.240000  Very Good     J    VVS2  62.800000  57.000000   \n",
      "6          7    336  0.240000  Very Good     I    VVS1  62.300000  57.000000   \n",
      "7          8    337  0.260000  Very Good     H     SI1  61.749058  55.000000   \n",
      "8          9    337  0.220000       Fair     E     VS2  65.100000  61.000000   \n",
      "9         10    338  0.230000  Very Good     H     VS1  59.400000  61.000000   \n",
      "10        11    339  0.300000       Good     G     SI1  64.000000  55.000000   \n",
      "11        12    340  0.230000      Ideal     J     VS1  62.800000  56.000000   \n",
      "12        13    342  0.220000    Premium     F     SI1  60.400000  61.000000   \n",
      "13        14    344  0.310000      Ideal     J     SI2  62.200000  54.000000   \n",
      "14        15    345  0.200000    Premium     E     SI2  60.200000  62.000000   \n",
      "15        16    345  0.798309    Premium     E      I1  60.900000  58.000000   \n",
      "16        17    348  0.300000      Ideal     I     SI2  62.000000  57.458378   \n",
      "17        18    351  0.300000       Good     J     SI1  63.400000  54.000000   \n",
      "18        19    351  0.300000      Ideal     G     SI1  63.800000  56.000000   \n",
      "19        20    351  0.300000  Very Good     J     SI1  62.700000  59.000000   \n",
      "20        21    351  0.300000       Good     I     SI2  63.300000  56.000000   \n",
      "21        22    352  0.230000  Very Good     E     VS2  63.800000  55.000000   \n",
      "22        23    353  0.230000  Very Good     H     VS1  61.000000  57.000000   \n",
      "23        24    353  0.310000  Very Good     J     SI1  59.400000  62.000000   \n",
      "24        25    353  0.310000  Very Good     J     SI1  58.100000  62.000000   \n",
      "25        26    354  0.230000  Very Good     G    VVS2  60.400000  58.000000   \n",
      "26        27    355  0.240000    Premium     I     VS1  62.500000  57.000000   \n",
      "27        28    357  0.300000  Very Good     J     VS2  62.200000  57.000000   \n",
      "28        29    357  0.230000  Very Good     D     VS2  60.500000  61.000000   \n",
      "29        30    357  0.230000  Very Good     G     VS1  60.900000  57.000000   \n",
      "...      ...    ...       ...        ...   ...     ...        ...        ...   \n",
      "53910  53911   2753  0.700000    Premium     E     SI1  60.500000  58.000000   \n",
      "53911  53912   2753  0.570000    Premium     E      IF  59.800000  60.000000   \n",
      "53912  53913   2753  0.610000    Premium     F    VVS1  61.800000  59.000000   \n",
      "53913  53914   2753  0.800000       Good     G     VS2  64.200000  58.000000   \n",
      "53914  53915   2753  0.840000       Good     I     VS1  63.700000  59.000000   \n",
      "53915  53916   2753  0.798309      Ideal     E     SI2  62.100000  56.000000   \n",
      "53916  53917   2753  0.740000       Good     D     SI1  63.100000  59.000000   \n",
      "53917  53918   2753  0.798309  Very Good     J     SI1  63.200000  60.000000   \n",
      "53918  53919   2753  0.760000    Premium     I     VS1  59.300000  62.000000   \n",
      "53919  53920   2753  0.760000      Ideal     I    VVS1  62.200000  55.000000   \n",
      "53920  53921   2755  0.700000  Very Good     E     VS2  62.400000  60.000000   \n",
      "53921  53922   2755  0.798309      Ideal     E     VS2  62.800000  60.000000   \n",
      "53922  53923   2755  0.700000  Very Good     D     VS1  63.100000  59.000000   \n",
      "53923  53924   2756  0.730000      Ideal     I     VS2  61.300000  56.000000   \n",
      "53924  53925   2756  0.798309      Ideal     I     VS2  61.600000  55.000000   \n",
      "53925  53926   2756  0.790000      Ideal     I     SI1  61.600000  56.000000   \n",
      "53926  53927   2756  0.710000      Ideal     G     SI1  61.900000  56.000000   \n",
      "53927  53928   2756  0.790000       Good     F     SI1  61.749058  59.000000   \n",
      "53928  53929   2756  0.790000    Premium     E     SI2  61.400000  58.000000   \n",
      "53929  53930   2756  0.798309      Ideal     G     VS1  61.400000  56.000000   \n",
      "53930  53931   2756  0.710000    Premium     E     SI1  61.749058  55.000000   \n",
      "53931  53932   2756  0.710000    Premium     F     SI1  59.800000  62.000000   \n",
      "53932  53933   2757  0.700000  Very Good     E     VS2  60.500000  59.000000   \n",
      "53933  53934   2757  0.798309      Ideal     E     VS2  61.200000  59.000000   \n",
      "53934  53935   2757  0.720000    Premium     D     SI1  62.700000  59.000000   \n",
      "53935  53936   2757  0.720000      Ideal     D     SI1  60.800000  57.000000   \n",
      "53936  53937   2757  0.720000       Good     D     SI1  63.100000  57.458378   \n",
      "53937  53938   2757  0.798309  Very Good     D     SI1  62.800000  60.000000   \n",
      "53938  53939   2757  0.860000    Premium     H     SI2  61.000000  58.000000   \n",
      "53939  53940   2757  0.750000      Ideal     D     SI2  62.200000  55.000000   \n",
      "\n",
      "             x         y        z  \n",
      "0      3.95000  3.980000  2.43000  \n",
      "1      3.89000  3.840000  2.31000  \n",
      "2      4.05000  4.070000  2.31000  \n",
      "3      4.20000  5.736222  2.63000  \n",
      "4      4.34000  4.350000  3.53902  \n",
      "5      3.94000  3.960000  2.48000  \n",
      "6      3.95000  5.736222  2.47000  \n",
      "7      4.07000  4.110000  2.53000  \n",
      "8      3.87000  3.780000  2.49000  \n",
      "9      5.73218  4.050000  2.39000  \n",
      "10     4.25000  4.280000  2.73000  \n",
      "11     3.93000  3.900000  2.46000  \n",
      "12     3.88000  3.840000  2.33000  \n",
      "13     4.35000  4.370000  2.71000  \n",
      "14     3.79000  3.750000  2.27000  \n",
      "15     4.38000  4.420000  2.68000  \n",
      "16     4.31000  4.340000  2.68000  \n",
      "17     4.23000  4.290000  2.70000  \n",
      "18     4.23000  4.260000  2.71000  \n",
      "19     4.21000  4.270000  2.66000  \n",
      "20     4.26000  4.300000  2.71000  \n",
      "21     3.85000  3.920000  2.48000  \n",
      "22     3.94000  3.960000  2.41000  \n",
      "23     4.39000  4.430000  2.62000  \n",
      "24     4.44000  4.470000  2.59000  \n",
      "25     3.97000  4.010000  2.41000  \n",
      "26     3.97000  3.940000  2.47000  \n",
      "27     4.28000  4.300000  2.67000  \n",
      "28     3.96000  3.970000  2.40000  \n",
      "29     3.96000  3.990000  2.42000  \n",
      "...        ...       ...      ...  \n",
      "53910  5.74000  5.770000  3.48000  \n",
      "53911  5.43000  5.380000  3.23000  \n",
      "53912  5.48000  5.400000  3.36000  \n",
      "53913  5.84000  5.810000  3.74000  \n",
      "53914  5.94000  5.900000  3.77000  \n",
      "53915  5.84000  5.736222  3.63000  \n",
      "53916  5.71000  5.740000  3.61000  \n",
      "53917  6.12000  6.090000  3.86000  \n",
      "53918  5.93000  5.850000  3.49000  \n",
      "53919  5.89000  5.870000  3.66000  \n",
      "53920  5.57000  5.610000  3.49000  \n",
      "53921  5.59000  5.650000  3.53000  \n",
      "53922  5.67000  5.580000  3.55000  \n",
      "53923  5.80000  5.840000  3.57000  \n",
      "53924  5.82000  5.840000  3.59000  \n",
      "53925  5.95000  5.970000  3.67000  \n",
      "53926  5.71000  5.730000  3.54000  \n",
      "53927  6.06000  6.130000  3.54000  \n",
      "53928  6.03000  5.960000  3.68000  \n",
      "53929  5.76000  5.730000  3.53000  \n",
      "53930  5.79000  5.740000  3.49000  \n",
      "53931  5.74000  5.730000  3.43000  \n",
      "53932  5.71000  5.760000  3.47000  \n",
      "53933  5.69000  5.720000  3.49000  \n",
      "53934  5.69000  5.730000  3.58000  \n",
      "53935  5.75000  5.760000  3.50000  \n",
      "53936  5.69000  5.750000  3.61000  \n",
      "53937  5.66000  5.680000  3.56000  \n",
      "53938  5.73218  6.120000  3.53902  \n",
      "53939  5.83000  5.870000  3.64000  \n",
      "\n",
      "[53940 rows x 11 columns]\n"
     ]
    }
   ],
   "source": [
    "cut_map={1:'Ideal', 2:'Premium', 3:'Good',4: 'Very Good', 5:'Fair'}\n",
    "color_map={1:'E', 2:'I',3: 'J', 4:'H', 5:'F', 6:'G', 7:'D'}\n",
    "clarity_map={1:'SI2',2: 'SI1', 3:'VS1', 4:'VS2', 5:'VVS2', 6:'VVS1', 7:'I1', 8:'IF'}\n",
    "df_dropped['cut']=df_dropped['cut'].map(cut_map)\n",
    "df_dropped['color'] = df_dropped['color'].map(color_map)\n",
    "df_dropped['clarity'] = df_dropped['clarity'].map(clarity_map)\n",
    "print(df_dropped)"
   ]
  },
  {
   "cell_type": "markdown",
   "metadata": {},
   "source": [
    "**One hot-encoding to proceed for dataset finalization for Model Building**"
   ]
  },
  {
   "cell_type": "code",
   "execution_count": 410,
   "metadata": {},
   "outputs": [],
   "source": [
    "resultfinal = pd.concat([df_dropped,pd.get_dummies(df_dropped['cut'], prefix='cut'),pd.get_dummies(df_dropped['color'], prefix='color'),pd.get_dummies(df_dropped['clarity'], prefix='clarity')],axis=1)"
   ]
  },
  {
   "cell_type": "code",
   "execution_count": 411,
   "metadata": {},
   "outputs": [],
   "source": [
    "resultfinal.drop(['cut'],axis=1, inplace=True)\n",
    "resultfinal.drop(['color'],axis=1, inplace=True)\n",
    "resultfinal.drop(['clarity'],axis=1, inplace=True)"
   ]
  },
  {
   "cell_type": "markdown",
   "metadata": {},
   "source": [
    "**Final Data Set**"
   ]
  },
  {
   "cell_type": "code",
   "execution_count": 415,
   "metadata": {
    "scrolled": true
   },
   "outputs": [
    {
     "data": {
      "text/html": [
       "<div>\n",
       "<style scoped>\n",
       "    .dataframe tbody tr th:only-of-type {\n",
       "        vertical-align: middle;\n",
       "    }\n",
       "\n",
       "    .dataframe tbody tr th {\n",
       "        vertical-align: top;\n",
       "    }\n",
       "\n",
       "    .dataframe thead th {\n",
       "        text-align: right;\n",
       "    }\n",
       "</style>\n",
       "<table border=\"1\" class=\"dataframe\">\n",
       "  <thead>\n",
       "    <tr style=\"text-align: right;\">\n",
       "      <th></th>\n",
       "      <th>obs</th>\n",
       "      <th>price</th>\n",
       "      <th>Carat</th>\n",
       "      <th>depth</th>\n",
       "      <th>table</th>\n",
       "      <th>x</th>\n",
       "      <th>y</th>\n",
       "      <th>z</th>\n",
       "      <th>cut_Fair</th>\n",
       "      <th>cut_Good</th>\n",
       "      <th>...</th>\n",
       "      <th>color_I</th>\n",
       "      <th>color_J</th>\n",
       "      <th>clarity_I1</th>\n",
       "      <th>clarity_IF</th>\n",
       "      <th>clarity_SI1</th>\n",
       "      <th>clarity_SI2</th>\n",
       "      <th>clarity_VS1</th>\n",
       "      <th>clarity_VS2</th>\n",
       "      <th>clarity_VVS1</th>\n",
       "      <th>clarity_VVS2</th>\n",
       "    </tr>\n",
       "  </thead>\n",
       "  <tbody>\n",
       "    <tr>\n",
       "      <th>0</th>\n",
       "      <td>1</td>\n",
       "      <td>326</td>\n",
       "      <td>0.798309</td>\n",
       "      <td>61.5</td>\n",
       "      <td>55.0</td>\n",
       "      <td>3.95</td>\n",
       "      <td>3.980000</td>\n",
       "      <td>2.43000</td>\n",
       "      <td>0</td>\n",
       "      <td>0</td>\n",
       "      <td>...</td>\n",
       "      <td>0</td>\n",
       "      <td>0</td>\n",
       "      <td>0</td>\n",
       "      <td>0</td>\n",
       "      <td>0</td>\n",
       "      <td>1</td>\n",
       "      <td>0</td>\n",
       "      <td>0</td>\n",
       "      <td>0</td>\n",
       "      <td>0</td>\n",
       "    </tr>\n",
       "    <tr>\n",
       "      <th>1</th>\n",
       "      <td>2</td>\n",
       "      <td>326</td>\n",
       "      <td>0.210000</td>\n",
       "      <td>59.8</td>\n",
       "      <td>61.0</td>\n",
       "      <td>3.89</td>\n",
       "      <td>3.840000</td>\n",
       "      <td>2.31000</td>\n",
       "      <td>0</td>\n",
       "      <td>0</td>\n",
       "      <td>...</td>\n",
       "      <td>0</td>\n",
       "      <td>0</td>\n",
       "      <td>0</td>\n",
       "      <td>0</td>\n",
       "      <td>1</td>\n",
       "      <td>0</td>\n",
       "      <td>0</td>\n",
       "      <td>0</td>\n",
       "      <td>0</td>\n",
       "      <td>0</td>\n",
       "    </tr>\n",
       "    <tr>\n",
       "      <th>2</th>\n",
       "      <td>3</td>\n",
       "      <td>327</td>\n",
       "      <td>0.230000</td>\n",
       "      <td>56.9</td>\n",
       "      <td>65.0</td>\n",
       "      <td>4.05</td>\n",
       "      <td>4.070000</td>\n",
       "      <td>2.31000</td>\n",
       "      <td>0</td>\n",
       "      <td>1</td>\n",
       "      <td>...</td>\n",
       "      <td>0</td>\n",
       "      <td>0</td>\n",
       "      <td>0</td>\n",
       "      <td>0</td>\n",
       "      <td>0</td>\n",
       "      <td>0</td>\n",
       "      <td>1</td>\n",
       "      <td>0</td>\n",
       "      <td>0</td>\n",
       "      <td>0</td>\n",
       "    </tr>\n",
       "    <tr>\n",
       "      <th>3</th>\n",
       "      <td>4</td>\n",
       "      <td>334</td>\n",
       "      <td>0.290000</td>\n",
       "      <td>62.4</td>\n",
       "      <td>58.0</td>\n",
       "      <td>4.20</td>\n",
       "      <td>5.736222</td>\n",
       "      <td>2.63000</td>\n",
       "      <td>0</td>\n",
       "      <td>0</td>\n",
       "      <td>...</td>\n",
       "      <td>1</td>\n",
       "      <td>0</td>\n",
       "      <td>0</td>\n",
       "      <td>0</td>\n",
       "      <td>0</td>\n",
       "      <td>0</td>\n",
       "      <td>0</td>\n",
       "      <td>1</td>\n",
       "      <td>0</td>\n",
       "      <td>0</td>\n",
       "    </tr>\n",
       "    <tr>\n",
       "      <th>4</th>\n",
       "      <td>5</td>\n",
       "      <td>335</td>\n",
       "      <td>0.310000</td>\n",
       "      <td>63.3</td>\n",
       "      <td>58.0</td>\n",
       "      <td>4.34</td>\n",
       "      <td>4.350000</td>\n",
       "      <td>3.53902</td>\n",
       "      <td>0</td>\n",
       "      <td>1</td>\n",
       "      <td>...</td>\n",
       "      <td>0</td>\n",
       "      <td>1</td>\n",
       "      <td>0</td>\n",
       "      <td>0</td>\n",
       "      <td>0</td>\n",
       "      <td>1</td>\n",
       "      <td>0</td>\n",
       "      <td>0</td>\n",
       "      <td>0</td>\n",
       "      <td>0</td>\n",
       "    </tr>\n",
       "  </tbody>\n",
       "</table>\n",
       "<p>5 rows × 28 columns</p>\n",
       "</div>"
      ],
      "text/plain": [
       "   obs  price     Carat  depth  table     x         y        z  cut_Fair  \\\n",
       "0    1    326  0.798309   61.5   55.0  3.95  3.980000  2.43000         0   \n",
       "1    2    326  0.210000   59.8   61.0  3.89  3.840000  2.31000         0   \n",
       "2    3    327  0.230000   56.9   65.0  4.05  4.070000  2.31000         0   \n",
       "3    4    334  0.290000   62.4   58.0  4.20  5.736222  2.63000         0   \n",
       "4    5    335  0.310000   63.3   58.0  4.34  4.350000  3.53902         0   \n",
       "\n",
       "   cut_Good      ...       color_I  color_J  clarity_I1  clarity_IF  \\\n",
       "0         0      ...             0        0           0           0   \n",
       "1         0      ...             0        0           0           0   \n",
       "2         1      ...             0        0           0           0   \n",
       "3         0      ...             1        0           0           0   \n",
       "4         1      ...             0        1           0           0   \n",
       "\n",
       "   clarity_SI1  clarity_SI2  clarity_VS1  clarity_VS2  clarity_VVS1  \\\n",
       "0            0            1            0            0             0   \n",
       "1            1            0            0            0             0   \n",
       "2            0            0            1            0             0   \n",
       "3            0            0            0            1             0   \n",
       "4            0            1            0            0             0   \n",
       "\n",
       "   clarity_VVS2  \n",
       "0             0  \n",
       "1             0  \n",
       "2             0  \n",
       "3             0  \n",
       "4             0  \n",
       "\n",
       "[5 rows x 28 columns]"
      ]
     },
     "execution_count": 415,
     "metadata": {},
     "output_type": "execute_result"
    }
   ],
   "source": [
    "resultfinal.head()"
   ]
  },
  {
   "cell_type": "markdown",
   "metadata": {},
   "source": [
    "**Linear regression to predict price of Diamond based on features**"
   ]
  },
  {
   "cell_type": "code",
   "execution_count": 416,
   "metadata": {},
   "outputs": [],
   "source": [
    "from AdvancedAnalytics import linreg\n",
    "from sklearn.datasets import make_regression\n",
    "from sklearn.linear_model import LinearRegression\n",
    "from sklearn.linear_model import Lasso\n",
    "from sklearn.linear_model import Ridge\n",
    "from sklearn.metrics import mean_squared_error"
   ]
  },
  {
   "cell_type": "markdown",
   "metadata": {},
   "source": [
    "**Train Test Split- 70-30 Ratio**"
   ]
  },
  {
   "cell_type": "code",
   "execution_count": 413,
   "metadata": {},
   "outputs": [
    {
     "name": "stdout",
     "output_type": "stream",
     "text": [
      "number of test samples : 16182\n",
      "number of training samples: 37758\n"
     ]
    }
   ],
   "source": [
    "#Train Test Split\n",
    "y_data = resultfinal['price']\n",
    "x_data=resultfinal.drop('price',axis=1)\n",
    "x_train, x_test, y_train, y_test = train_test_split(x_data, y_data, test_size=0.3, random_state=1)\n",
    "print(\"number of test samples :\", x_test.shape[0])\n",
    "print(\"number of training samples:\",x_train.shape[0])\n",
    "\n",
    "\n"
   ]
  },
  {
   "cell_type": "code",
   "execution_count": 417,
   "metadata": {},
   "outputs": [],
   "source": [
    "lr=LinearRegression()"
   ]
  },
  {
   "cell_type": "code",
   "execution_count": 428,
   "metadata": {},
   "outputs": [],
   "source": [
    "col=[]\n",
    "for i in range(x_train.shape[1]):\n",
    "    col.append('X'+str(i))"
   ]
  },
  {
   "cell_type": "markdown",
   "metadata": {},
   "source": [
    "**Model Fit**"
   ]
  },
  {
   "cell_type": "code",
   "execution_count": 434,
   "metadata": {
    "scrolled": false
   },
   "outputs": [
    {
     "name": "stdout",
     "output_type": "stream",
     "text": [
      "\n",
      "*** LINEAR REGRESSION ***\n",
      "\n",
      "Coefficients\n",
      "\n",
      "Coefficients\n",
      "Intercept..    -14831.3775\n",
      "X0.........         0.0095\n",
      "X1.........      4016.3295\n",
      "X2.........        42.7766\n",
      "X3.........        -3.0508\n",
      "X4.........      1384.5822\n",
      "X5.........       373.3371\n",
      "X6.........       652.2990\n",
      "X7.........      -672.9710\n",
      "X8.........       -32.7545\n",
      "X9.........       275.8348\n",
      "X10........       226.7594\n",
      "X11........       203.1314\n",
      "X12........       703.8234\n",
      "X13........       484.8308\n",
      "X14........       401.0840\n",
      "X15........       242.7484\n",
      "X16........      -117.2023\n",
      "X17........      -431.9692\n",
      "X18........     -1283.3151\n",
      "X19........     -3541.1247\n",
      "X20........      1617.7167\n",
      "X21........      -285.7610\n",
      "X22........     -1092.2045\n",
      "X23........       639.1196\n",
      "X24........       318.4978\n",
      "X25........      1220.8230\n",
      "X26........      1122.9332\n",
      "\n",
      "Model Metrics\n",
      "Observations...........          37758\n",
      "Coefficients...........             28\n",
      "DF Error...............          37730\n",
      "R-Squared..............         0.8546\n",
      "Mean Absolute Error....      1120.2998\n",
      "Median Absolute Error..       923.5600\n",
      "Avg Squared Error......   2350258.2734\n",
      "Square Root ASE........      1533.0552\n"
     ]
    }
   ],
   "source": [
    "lr.fit(x_train,y_train)\n",
    "print(\"\\n*** LINEAR REGRESSION ***\")\n",
    "linreg.display_coef(lr, x_train, y_train, col)\n",
    "linreg.display_metrics(lr, x_train, y_train)"
   ]
  },
  {
   "cell_type": "markdown",
   "metadata": {},
   "source": [
    "**Model Assessment on Test Data**"
   ]
  },
  {
   "cell_type": "code",
   "execution_count": 435,
   "metadata": {},
   "outputs": [
    {
     "name": "stdout",
     "output_type": "stream",
     "text": [
      "Residual sum of squares: 2170431.23\n",
      "Variance score: 0.86\n"
     ]
    }
   ],
   "source": [
    "y_hat= lr.predict(x_test)\n",
    "xtestarr = np.asanyarray(x_test)\n",
    "ytestarr = np.asanyarray(y_test)\n",
    "\n",
    "print(\"Residual sum of squares: %.2f\"\n",
    "      % np.mean((y_hat - y_test) ** 2))\n",
    "\n",
    "# Explained variance score: 1 is perfect prediction\n",
    "print('Variance score: %.2f' % lr.score(xtestarr, ytestarr))"
   ]
  }
 ],
 "metadata": {
  "kernelspec": {
   "display_name": "Python 3",
   "language": "python",
   "name": "python3"
  },
  "language_info": {
   "codemirror_mode": {
    "name": "ipython",
    "version": 3
   },
   "file_extension": ".py",
   "mimetype": "text/x-python",
   "name": "python",
   "nbconvert_exporter": "python",
   "pygments_lexer": "ipython3",
   "version": "3.7.1"
  }
 },
 "nbformat": 4,
 "nbformat_minor": 2
}
